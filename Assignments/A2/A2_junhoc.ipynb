{
 "cells": [
  {
   "cell_type": "markdown",
   "metadata": {},
   "source": [
    "# Assignment 2, MACS 30000 (Dr. Evans)"
   ]
  },
  {
   "cell_type": "markdown",
   "metadata": {},
   "source": [
    "### Submitted by Junho Choi"
   ]
  },
  {
   "cell_type": "markdown",
   "metadata": {},
   "source": [
    "Due Wednesday, Oct. 17 at 11:30 AM\n",
    "\n",
    "This file contains the coding work that was used in completing this assignment.\n",
    "Please refer to the .pdf file for more detailed answers."
   ]
  },
  {
   "cell_type": "code",
   "execution_count": 279,
   "metadata": {},
   "outputs": [],
   "source": [
    "# Import packages\n",
    "import numpy as np\n",
    "import pandas as pd\n",
    "import statsmodels.api as sm\n",
    "import matplotlib.pyplot as plt\n",
    "import math\n",
    "plt.style.use('seaborn')"
   ]
  },
  {
   "cell_type": "markdown",
   "metadata": {},
   "source": [
    "### Problem 1"
   ]
  },
  {
   "cell_type": "markdown",
   "metadata": {},
   "source": [
    "#### Problem 1-(b)"
   ]
  },
  {
   "cell_type": "code",
   "execution_count": 280,
   "metadata": {},
   "outputs": [
    {
     "name": "stdout",
     "output_type": "stream",
     "text": [
      "         labinc        capinc     height      weight   totinc_impu\n",
      "0  52655.605507   9279.509829  64.568138  152.920634  61935.115336\n",
      "1  70586.979225   9451.016902  65.727648  159.534414  80037.996127\n",
      "2  53738.008339   8078.132315  66.268796  152.502405  61816.140654\n",
      "3  55128.180903  12692.670403  62.910559  149.218189  67820.851305\n",
      "4  44482.794867   9812.975746  68.678295  152.726358  54295.770612\n"
     ]
    }
   ],
   "source": [
    "# Reading in the datasets\n",
    "header1 = [\"labinc\", \"capinc\", \"height\", \"weight\"]\n",
    "header2 = [\"totinc\", \"weight\", \"age\", \"female\"]\n",
    "besty = pd.read_csv('BestIncome.txt', sep = \",\", header = None, names = header1)\n",
    "survy = pd.read_csv('SurvIncome.txt', sep = \",\", header = None, names = header2)\n",
    "\n",
    "# Creating total income in BestIncome\n",
    "totinc_impu = besty[\"labinc\"] + besty[\"capinc\"]\n",
    "besty[\"totinc_impu\"] = totinc_impu\n",
    "print(besty.head())"
   ]
  },
  {
   "cell_type": "code",
   "execution_count": 281,
   "metadata": {},
   "outputs": [
    {
     "name": "stdout",
     "output_type": "stream",
     "text": [
      "                            OLS Regression Results                            \n",
      "==============================================================================\n",
      "Dep. Variable:                    age   R-squared:                       0.001\n",
      "Model:                            OLS   Adj. R-squared:                 -0.001\n",
      "Method:                 Least Squares   F-statistic:                    0.6326\n",
      "Date:                Wed, 17 Oct 2018   Prob (F-statistic):              0.531\n",
      "Time:                        00:59:10   Log-Likelihood:                -3199.4\n",
      "No. Observations:                1000   AIC:                             6405.\n",
      "Df Residuals:                     997   BIC:                             6419.\n",
      "Df Model:                           2                                         \n",
      "Covariance Type:            nonrobust                                         \n",
      "==============================================================================\n",
      "                 coef    std err          t      P>|t|      [0.025      0.975]\n",
      "------------------------------------------------------------------------------\n",
      "totinc       2.52e-05   2.26e-05      1.114      0.266   -1.92e-05    6.96e-05\n",
      "weight        -0.0067      0.010     -0.686      0.493      -0.026       0.013\n",
      "const         44.2097      1.490     29.666      0.000      41.285      47.134\n",
      "==============================================================================\n",
      "Omnibus:                        2.460   Durbin-Watson:                   1.921\n",
      "Prob(Omnibus):                  0.292   Jarque-Bera (JB):                2.322\n",
      "Skew:                          -0.109   Prob(JB):                        0.313\n",
      "Kurtosis:                       3.092   Cond. No.                     5.20e+05\n",
      "==============================================================================\n",
      "\n",
      "Warnings:\n",
      "[1] Standard Errors assume that the covariance matrix of the errors is correctly specified.\n",
      "[2] The condition number is large, 5.2e+05. This might indicate that there are\n",
      "strong multicollinearity or other numerical problems.\n"
     ]
    }
   ],
   "source": [
    "# Regression analysis (no. 1, OLS) with SurvIncome\n",
    "# dependent variable: age\n",
    "# explanatory variable: totinc, weight\n",
    "\n",
    "# Setting up the regression variables\n",
    "exp_vars = survy[[\"totinc\", \"weight\"]]\n",
    "exp_vars = sm.add_constant(exp_vars, prepend=False)\n",
    "dep_var = survy[\"age\"]\n",
    "\n",
    "# Running the aforementioned regression\n",
    "m1 = sm.OLS(dep_var, exp_vars)\n",
    "result = m1.fit()\n",
    "print(result.summary())\n",
    "\n",
    "# Extracting and saving the regression coefficients\n",
    "coeff = result.params"
   ]
  },
  {
   "cell_type": "code",
   "execution_count": 282,
   "metadata": {},
   "outputs": [
    {
     "name": "stdout",
     "output_type": "stream",
     "text": [
      "         labinc        capinc     height      weight   totinc_impu   age_impu\n",
      "0  52655.605507   9279.509829  64.568138  152.920634  61935.115336  44.742614\n",
      "1  70586.979225   9451.016902  65.727648  159.534414  80037.996127  45.154387\n",
      "2  53738.008339   8078.132315  66.268796  152.502405  61816.140654  44.742427\n",
      "3  55128.180903  12692.670403  62.910559  149.218189  67820.851305  44.915836\n",
      "4  44482.794867   9812.975746  68.678295  152.726358  54295.770612  44.551391\n"
     ]
    }
   ],
   "source": [
    "# Imputing the age in BestIncome\n",
    "age_impu = coeff[2] + coeff[0] * besty[\"totinc_impu\"] \\\n",
    "           + coeff[1] * besty[\"weight\"]\n",
    "besty[\"age_impu\"] = age_impu\n",
    "\n",
    "# Presenting the \"head\" of SurvIncome after height imputation\n",
    "print(besty.head())"
   ]
  },
  {
   "cell_type": "code",
   "execution_count": 283,
   "metadata": {},
   "outputs": [
    {
     "name": "stdout",
     "output_type": "stream",
     "text": [
      "Optimization terminated successfully.\n",
      "         Current function value: 0.036050\n",
      "         Iterations 11\n",
      "                        Results: Logit\n",
      "==============================================================\n",
      "Model:              Logit            No. Iterations:   11.0000\n",
      "Dependent Variable: female           Pseudo R-squared: 0.948  \n",
      "Date:               2018-10-17 00:59 AIC:              78.1009\n",
      "No. Observations:   1000             BIC:              92.8242\n",
      "Df Model:           2                Log-Likelihood:   -36.050\n",
      "Df Residuals:       997              LL-Null:          -693.15\n",
      "Converged:          1.0000           Scale:            1.0000 \n",
      "---------------------------------------------------------------\n",
      "            Coef.   Std.Err.     z     P>|z|    [0.025   0.975]\n",
      "---------------------------------------------------------------\n",
      "const      76.7929   10.5690   7.2659  0.0000  56.0781  97.5077\n",
      "totinc     -0.0002    0.0000  -3.6602  0.0003  -0.0002  -0.0001\n",
      "weight     -0.4460    0.0618  -7.2185  0.0000  -0.5672  -0.3249\n",
      "==============================================================\n",
      "\n"
     ]
    }
   ],
   "source": [
    "'''\n",
    "Regression analysis (no. 2, logistic) with SurvIncome\n",
    "dependent variable: female\n",
    "explanatory variable: totinc, weight, age\n",
    "'''\n",
    "\n",
    "# Setting up the regression variables\n",
    "exp_vars2 = survy[[\"totinc\", \"weight\"]]\n",
    "exp_vars2 = sm.add_constant(exp_vars2)\n",
    "dep_var2 = survy[\"female\"]\n",
    "\n",
    "# Running the aforementioned regression\n",
    "m2 = sm.Logit(dep_var2, exp_vars2)\n",
    "result2 = m2.fit()\n",
    "print(result2.summary2())\n",
    "\n",
    "# Extracting and saving the regression coefficients\n",
    "coeff2 = result2.params"
   ]
  },
  {
   "cell_type": "code",
   "execution_count": 284,
   "metadata": {},
   "outputs": [
    {
     "name": "stdout",
     "output_type": "stream",
     "text": [
      "[0.03294246] [[ 9.22210066e-05 -4.17849763e-02]]\n",
      "         labinc        capinc     height      weight   totinc_impu   age_impu  \\\n",
      "0  52655.605507   9279.509829  64.568138  152.920634  61935.115336  44.742614   \n",
      "1  70586.979225   9451.016902  65.727648  159.534414  80037.996127  45.154387   \n",
      "2  53738.008339   8078.132315  66.268796  152.502405  61816.140654  44.742427   \n",
      "3  55128.180903  12692.670403  62.910559  149.218189  67820.851305  44.915836   \n",
      "4  44482.794867   9812.975746  68.678295  152.726358  54295.770612  44.551391   \n",
      "\n",
      "   female_impu  \n",
      "0          0.0  \n",
      "1          1.0  \n",
      "2          0.0  \n",
      "3          1.0  \n",
      "4          0.0  \n"
     ]
    }
   ],
   "source": [
    "# Manually calculating the probability has led to a math range error,\n",
    "# and therefore I will be relying on scikit-learn.\n",
    "\n",
    "from sklearn.linear_model import LogisticRegression\n",
    "lr = LogisticRegression(fit_intercept = True, C = 1e9)\n",
    "exp_vars2 = survy[[\"totinc\", \"weight\"]]\n",
    "\n",
    "# scikit-learn's LogisticRegression has different configurations\n",
    "# in comparison to statsmodel.api; therefore, the coefficients\n",
    "# and intercept are different.\n",
    "\n",
    "result2_2 = lr.fit(exp_vars2, dep_var2)\n",
    "print(result2_2.intercept_, result2_2.coef_)\n",
    "\n",
    "# Imputing the variable 'female' in BestIncome\n",
    "fem_impu = result2_2.predict(besty[[\"totinc_impu\", \"weight\"]])\n",
    "besty[\"female_impu\"] = fem_impu\n",
    "\n",
    "# Presenting the \"head\" of SurvIncome after height imputation\n",
    "print(besty.head())"
   ]
  },
  {
   "cell_type": "markdown",
   "metadata": {},
   "source": [
    "#### Problem 1-(c)"
   ]
  },
  {
   "cell_type": "code",
   "execution_count": 285,
   "metadata": {},
   "outputs": [
    {
     "name": "stdout",
     "output_type": "stream",
     "text": [
      "        totinc_impu      age_impu   female_impu\n",
      "count  10000.000000  10000.000000  10000.000000\n",
      "mean   67038.723697     44.890828      0.471700\n",
      "std     8294.497996      0.219150      0.499223\n",
      "min    33651.691815     43.976495      0.000000\n",
      "25%    61452.517672     44.743776      0.000000\n",
      "50%    67042.751487     44.886944      0.000000\n",
      "75%    72636.874684     45.038991      1.000000\n",
      "max    98996.053756     45.703819      1.000000\n",
      "             totinc          age      female\n",
      "count   1000.000000  1000.000000  1000.00000\n",
      "mean   64871.210860    44.839320     0.50000\n",
      "std     9542.444214     5.939185     0.50025\n",
      "min    31816.281649    25.741333     0.00000\n",
      "25%    58349.862384    41.025231     0.00000\n",
      "50%    65281.271149    44.955981     0.50000\n",
      "75%    71749.038000    48.817644     1.00000\n",
      "max    92556.135462    66.534646     1.00000\n"
     ]
    }
   ],
   "source": [
    "# descStat = besty[[\"totinc_impu\", \"age_impu\", \"female_impu\"]].describe()\n",
    "print(descStat)\n",
    "\n",
    "descStat2 = survy[[\"totinc\", \"age\", \"female\"]].describe()\n",
    "print(descStat2)"
   ]
  },
  {
   "cell_type": "markdown",
   "metadata": {},
   "source": [
    "#### Problem 1-(d)"
   ]
  },
  {
   "cell_type": "code",
   "execution_count": 286,
   "metadata": {},
   "outputs": [
    {
     "name": "stdout",
     "output_type": "stream",
     "text": [
      "               labinc    capinc    height    weight  age_impu  female_impu\n",
      "labinc       1.000000  0.005325  0.002790  0.004507  0.924053     0.677675\n",
      "capinc       0.005325  1.000000  0.021572  0.006299  0.234159     0.176901\n",
      "height       0.002790  0.021572  1.000000  0.172103 -0.045083    -0.066972\n",
      "weight       0.004507  0.006299  0.172103  1.000000 -0.300288    -0.382659\n",
      "age_impu     0.924053  0.234159 -0.045083 -0.300288  1.000000     0.784260\n",
      "female_impu  0.677675  0.176901 -0.066972 -0.382659  0.784260     1.000000\n"
     ]
    }
   ],
   "source": [
    "# Correlation matrix code and output\n",
    "\n",
    "wout_tot = [\"labinc\", \"capinc\", \"height\", \"weight\", \"age_impu\", \"female_impu\"]\n",
    "besty_wout_tot = besty[wout_tot]\n",
    "print(besty_wout_tot.corr())"
   ]
  },
  {
   "cell_type": "markdown",
   "metadata": {},
   "source": [
    "### Problem 2"
   ]
  },
  {
   "cell_type": "markdown",
   "metadata": {},
   "source": [
    "#### Problem 2-(a)"
   ]
  },
  {
   "cell_type": "code",
   "execution_count": 287,
   "metadata": {},
   "outputs": [
    {
     "name": "stdout",
     "output_type": "stream",
     "text": [
      "                            OLS Regression Results                            \n",
      "==============================================================================\n",
      "Dep. Variable:                 salary   R-squared:                       0.263\n",
      "Model:                            OLS   Adj. R-squared:                  0.262\n",
      "Method:                 Least Squares   F-statistic:                     356.3\n",
      "Date:                Wed, 17 Oct 2018   Prob (F-statistic):           3.43e-68\n",
      "Time:                        01:01:37   Log-Likelihood:                -10673.\n",
      "No. Observations:                1000   AIC:                         2.135e+04\n",
      "Df Residuals:                     998   BIC:                         2.136e+04\n",
      "Df Model:                           1                                         \n",
      "Covariance Type:            nonrobust                                         \n",
      "==============================================================================\n",
      "                 coef    std err          t      P>|t|      [0.025      0.975]\n",
      "------------------------------------------------------------------------------\n",
      "greqnt       -25.7632      1.365    -18.875      0.000     -28.442     -23.085\n",
      "const       8.954e+04    878.764    101.895      0.000    8.78e+04    9.13e+04\n",
      "==============================================================================\n",
      "Omnibus:                        9.118   Durbin-Watson:                   1.424\n",
      "Prob(Omnibus):                  0.010   Jarque-Bera (JB):                9.100\n",
      "Skew:                           0.230   Prob(JB):                       0.0106\n",
      "Kurtosis:                       3.077   Cond. No.                     1.71e+03\n",
      "==============================================================================\n",
      "\n",
      "Warnings:\n",
      "[1] Standard Errors assume that the covariance matrix of the errors is correctly specified.\n",
      "[2] The condition number is large, 1.71e+03. This might indicate that there are\n",
      "strong multicollinearity or other numerical problems.\n"
     ]
    }
   ],
   "source": [
    "# Dataset read-in: IncomeIntel.txt\n",
    "head = [\"gradyr\", \"greqnt\", \"salary\"]\n",
    "iintel = pd.read_csv('IncomeIntel.txt', sep = \",\", header = None, names = head)\n",
    "\n",
    "# Declaring variables\n",
    "gradyr = iintel[head[0]]\n",
    "greqnt = iintel[head[1]]\n",
    "salary = iintel[head[2]]\n",
    "\n",
    "# Setting up the regression variables\n",
    "exp_vars = sm.add_constant(greqnt, prepend=False)\n",
    "\n",
    "# Running the aforementioned regression\n",
    "m_q2 = sm.OLS(salary, exp_vars)\n",
    "result_q2 = m_q2.fit()\n",
    "print(result_q2.summary())\n",
    "\n",
    "# Extracting and saving the regression coefficients\n",
    "coeff_q2 = result_q2.params"
   ]
  },
  {
   "cell_type": "markdown",
   "metadata": {},
   "source": [
    "#### Problem 2-(b)"
   ]
  },
  {
   "cell_type": "code",
   "execution_count": 288,
   "metadata": {},
   "outputs": [
    {
     "data": {
      "image/png": "[encoded data removed]",
      "text/plain": [
       "<matplotlib.figure.Figure at 0x20e6ac2a0b8>"
      ]
     },
     "metadata": {},
     "output_type": "display_data"
    }
   ],
   "source": [
    "# Scatterplot of GRE quantitative score (y-axis) and graduation year (x-axis)\n",
    "plt.scatter(x = gradyr, y = greqnt)\n",
    "plt.xlabel(\"Graduation Year\")\n",
    "plt.ylabel(\"GRE Quantitative Score\")\n",
    "plt.show()"
   ]
  },
  {
   "cell_type": "code",
   "execution_count": 289,
   "metadata": {},
   "outputs": [
    {
     "name": "stdout",
     "output_type": "stream",
     "text": [
      "655.7025368703108 799.7155331839259\n",
      "       greqnt  greqnt_conv\n",
      "0  739.737072        157.0\n",
      "1  721.811673        156.0\n",
      "2  736.277908        157.0\n",
      "3  770.498485        161.0\n",
      "4  735.002861        157.0\n"
     ]
    }
   ],
   "source": [
    "'''\n",
    "   It certainly seems that the GRE scores prior to and in the year 2010\n",
    "   were using a 200-to-800 scale whereas afterwards, they were using\n",
    "   130-to-170 scale.\n",
    "   \n",
    "   Let us change the scale to the newer version.\n",
    "'''\n",
    "\n",
    "# Where does year 2011 begin?\n",
    "find = 0\n",
    "for i, yr in enumerate(gradyr):\n",
    "    if yr == 2011.0:\n",
    "        find = i\n",
    "        break\n",
    "\n",
    "# Min and max of the old score?\n",
    "print(min(greqnt[0:find]), max(greqnt[0:find]))\n",
    "\n",
    "# On the conversion table, this maps approximately to\n",
    "# scores between 151 to 166\n",
    "\n",
    "greqnt_conversion = greqnt.tolist()[:]\n",
    "\n",
    "def conversion_gre(old_score):\n",
    "    \n",
    "    check1 = old_score >= 200 and old_score <= 800\n",
    "    check2 = old_score >= 130 and old_score <= 170\n",
    "    assert check1 or check2, (\"The input should either \"\n",
    "                              \"be a pre-2011 GRE score \"\n",
    "                              \"(200-800), or a post-2011 \"\n",
    "                              \"GRE score (130-170).\")\n",
    "    \n",
    "    new_score = 0\n",
    "    if old_score >= 200 and old_score <= 800:\n",
    "        if old_score == 800:\n",
    "            new_score = 166\n",
    "        elif old_score < 800 and old_score >= 790:\n",
    "            new_score = 164\n",
    "        elif old_score < 790 and old_score >= 780:\n",
    "            new_score = 163\n",
    "        elif old_score < 780 and old_score >= 770:\n",
    "            new_score = 161\n",
    "        elif old_score < 770 and old_score >= 760:\n",
    "            new_score = 160\n",
    "        elif old_score < 760 and old_score >= 750:\n",
    "            new_score = 159\n",
    "        elif old_score < 750 and old_score >= 740:\n",
    "            new_score = 158\n",
    "        elif old_score < 740 and old_score >= 730:\n",
    "            new_score = 157\n",
    "        elif old_score < 730 and old_score >= 720:\n",
    "            new_score = 156\n",
    "        elif old_score < 720 and old_score >= 700:\n",
    "            new_score = 155\n",
    "        elif old_score < 700 and old_score >= 690:\n",
    "            new_score = 154\n",
    "        elif old_score < 690 and old_score >= 680:\n",
    "            new_score = 153\n",
    "        elif old_score < 680 and old_score >= 660:\n",
    "            new_score = 152\n",
    "        elif old_score < 660 and old_score >= 640:\n",
    "            new_score = 151\n",
    "        # the list can go on, but for convenience's sake\n",
    "        # I will stop here\n",
    "        return new_score\n",
    "    else:\n",
    "        return old_score\n",
    "    \n",
    "for i in range(0, len(greqnt_conversion)):\n",
    "    greqnt_conversion[i] = conversion_gre(greqnt_conversion[i])\n",
    "\n",
    "iintel[\"greqnt_conv\"] = greqnt_conversion\n",
    "print(iintel[[\"greqnt\", \"greqnt_conv\"]].head())"
   ]
  },
  {
   "cell_type": "code",
   "execution_count": 290,
   "metadata": {},
   "outputs": [
    {
     "name": "stdout",
     "output_type": "stream",
     "text": [
      "count    1000.000000\n",
      "mean      156.195657\n",
      "std         3.169308\n",
      "min       141.261398\n",
      "25%       155.000000\n",
      "50%       156.000000\n",
      "75%       158.000000\n",
      "max       170.000000\n",
      "Name: greqnt_conv, dtype: float64\n"
     ]
    },
    {
     "data": {
      "image/png": "[encoded data removed]",
      "text/plain": [
       "<matplotlib.figure.Figure at 0x20e6a774208>"
      ]
     },
     "metadata": {},
     "output_type": "display_data"
    }
   ],
   "source": [
    "## Checking whether the conversion is more or less valid\n",
    "## via describe() and scatterplot\n",
    "print(iintel[\"greqnt_conv\"].describe())\n",
    "plt.scatter(x = gradyr, y = greqnt_conversion)\n",
    "plt.xlabel(\"Graduation Year\")\n",
    "plt.ylabel(\"GRE Quantitative Score, post-conversion\")\n",
    "plt.show()"
   ]
  },
  {
   "cell_type": "markdown",
   "metadata": {},
   "source": [
    "#### Problem 2-(c)"
   ]
  },
  {
   "cell_type": "code",
   "execution_count": 291,
   "metadata": {},
   "outputs": [
    {
     "data": {
      "image/png": "[encoded data removed]",
      "text/plain": [
       "<matplotlib.figure.Figure at 0x20e6b066470>"
      ]
     },
     "metadata": {},
     "output_type": "display_data"
    }
   ],
   "source": [
    "# Scatterplot of GRE quantitative score (y-axis) and graduation year (x-axis)\n",
    "plt.scatter(x = gradyr, y = salary)\n",
    "plt.xlabel(\"Graduation Year\")\n",
    "plt.ylabel(\"Salary after 4 Years (in USD)\")\n",
    "plt.show()"
   ]
  },
  {
   "cell_type": "code",
   "execution_count": 292,
   "metadata": {},
   "outputs": [
    {
     "name": "stdout",
     "output_type": "stream",
     "text": [
      "0.030835347092883603\n"
     ]
    }
   ],
   "source": [
    "# Finding the average growth rate of income\n",
    "avg_sal_yr = iintel.groupby(['gradyr'])['salary'].mean()\n",
    "avg_sal_yr_list = avg_sal_yr.tolist()\n",
    "\n",
    "avg_sal_g_rate = []\n",
    "for i, sal in enumerate(avg_sal_yr_list):\n",
    "    if i == len(avg_sal_yr_list) - 1:\n",
    "        break\n",
    "    else: \n",
    "        next_yr = avg_sal_yr_list[i+1]\n",
    "        g_rate = (next_yr - sal) / sal\n",
    "        avg_sal_g_rate.append(g_rate)\n",
    "    \n",
    "def find_mean_list(some_list):\n",
    "    adder = 0\n",
    "    for i in some_list:\n",
    "        adder = adder + i\n",
    "    arith_mean = adder / len(some_list)\n",
    "    \n",
    "    return arith_mean\n",
    "\n",
    "# Value of the average growth rate of income\n",
    "g_overall = find_mean_list(avg_sal_g_rate)\n",
    "print(g_overall)"
   ]
  },
  {
   "cell_type": "code",
   "execution_count": 293,
   "metadata": {},
   "outputs": [],
   "source": [
    "# For the de-trending of income\n",
    "newsal_list = []\n",
    "salcopy = iintel[\"salary\"].tolist()[:]\n",
    "for i, sal in enumerate(salcopy):\n",
    "    newsal = sal\n",
    "    for t in range(2002, 2014):\n",
    "        j = t - 2001\n",
    "        if iintel[\"gradyr\"][i] == t:\n",
    "            detrend_rate = (1 / (1 + g_overall)) ** j\n",
    "            newsal = sal * detrend_rate\n",
    "    newsal_list.append(newsal)\n",
    "\n",
    "iintel[\"salary_detrend\"] = newsal_list"
   ]
  },
  {
   "cell_type": "code",
   "execution_count": 294,
   "metadata": {},
   "outputs": [
    {
     "name": "stdout",
     "output_type": "stream",
     "text": [
      "count     1000.000000\n",
      "mean     61419.808910\n",
      "std       7135.610865\n",
      "min      41164.726530\n",
      "25%      56616.517414\n",
      "50%      61467.616002\n",
      "75%      66218.595876\n",
      "max      84516.856633\n",
      "Name: salary_detrend, dtype: float64\n"
     ]
    },
    {
     "data": {
      "image/png": "[encoded data removed]",
      "text/plain": [
       "<matplotlib.figure.Figure at 0x20e6a8ee0b8>"
      ]
     },
     "metadata": {},
     "output_type": "display_data"
    }
   ],
   "source": [
    "## Checking whether the de-trending is more or less valid\n",
    "## via scatterplot\n",
    "print(iintel[\"salary_detrend\"].describe())\n",
    "plt.scatter(x = gradyr, y = newsal_list)\n",
    "plt.xlabel(\"Graduation Year\")\n",
    "plt.ylabel(\"Salary (in USD), de-trended\")\n",
    "plt.show()"
   ]
  },
  {
   "cell_type": "markdown",
   "metadata": {},
   "source": [
    "#### Problem 2-(d)"
   ]
  },
  {
   "cell_type": "code",
   "execution_count": 295,
   "metadata": {},
   "outputs": [
    {
     "name": "stdout",
     "output_type": "stream",
     "text": [
      "                            OLS Regression Results                            \n",
      "==============================================================================\n",
      "Dep. Variable:         salary_detrend   R-squared:                       0.001\n",
      "Model:                            OLS   Adj. R-squared:                 -0.000\n",
      "Method:                 Least Squares   F-statistic:                    0.6590\n",
      "Date:                Wed, 17 Oct 2018   Prob (F-statistic):              0.417\n",
      "Time:                        01:02:22   Log-Likelihood:                -10291.\n",
      "No. Observations:                1000   AIC:                         2.059e+04\n",
      "Df Residuals:                     998   BIC:                         2.060e+04\n",
      "Df Model:                           1                                         \n",
      "Covariance Type:            nonrobust                                         \n",
      "===============================================================================\n",
      "                  coef    std err          t      P>|t|      [0.025      0.975]\n",
      "-------------------------------------------------------------------------------\n",
      "greqnt_conv   -57.8359     71.246     -0.812      0.417    -197.644      81.972\n",
      "const        7.045e+04   1.11e+04      6.330      0.000    4.86e+04    9.23e+04\n",
      "==============================================================================\n",
      "Omnibus:                        0.777   Durbin-Watson:                   2.026\n",
      "Prob(Omnibus):                  0.678   Jarque-Bera (JB):                0.684\n",
      "Skew:                           0.059   Prob(JB):                        0.710\n",
      "Kurtosis:                       3.052   Cond. No.                     7.71e+03\n",
      "==============================================================================\n",
      "\n",
      "Warnings:\n",
      "[1] Standard Errors assume that the covariance matrix of the errors is correctly specified.\n",
      "[2] The condition number is large, 7.71e+03. This might indicate that there are\n",
      "strong multicollinearity or other numerical problems.\n"
     ]
    }
   ],
   "source": [
    "# Setting up the regression variables\n",
    "dep_var = iintel[\"salary_detrend\"]\n",
    "exp_vars = iintel[\"greqnt_conv\"]\n",
    "exp_vars = sm.add_constant(exp_vars, prepend=False)\n",
    "\n",
    "# Running the regression after making the necessary changes\n",
    "m_q2_1 = sm.OLS(dep_var, exp_vars)\n",
    "result_q2_1 = m_q2_1.fit()\n",
    "print(result_q2_1.summary())"
   ]
  },
  {
   "cell_type": "code",
   "execution_count": 296,
   "metadata": {},
   "outputs": [
    {
     "name": "stdout",
     "output_type": "stream",
     "text": [
      "                            OLS Regression Results                            \n",
      "==============================================================================\n",
      "Dep. Variable:                 salary   R-squared:                       0.490\n",
      "Model:                            OLS   Adj. R-squared:                  0.489\n",
      "Method:                 Least Squares   F-statistic:                     478.8\n",
      "Date:                Wed, 17 Oct 2018   Prob (F-statistic):          1.78e-146\n",
      "Time:                        01:02:25   Log-Likelihood:                -10489.\n",
      "No. Observations:                1000   AIC:                         2.098e+04\n",
      "Df Residuals:                     997   BIC:                         2.100e+04\n",
      "Df Model:                           2                                         \n",
      "Covariance Type:            nonrobust                                         \n",
      "===============================================================================\n",
      "                  coef    std err          t      P>|t|      [0.025      0.975]\n",
      "-------------------------------------------------------------------------------\n",
      "time         2265.4860     74.503     30.408      0.000    2119.286    2411.686\n",
      "greqnt_conv   -86.9987     87.932     -0.989      0.323    -259.552      85.555\n",
      "const        7.418e+04   1.38e+04      5.370      0.000    4.71e+04    1.01e+05\n",
      "==============================================================================\n",
      "Omnibus:                        2.453   Durbin-Watson:                   2.056\n",
      "Prob(Omnibus):                  0.293   Jarque-Bera (JB):                2.373\n",
      "Skew:                           0.076   Prob(JB):                        0.305\n",
      "Kurtosis:                       3.184   Cond. No.                     7.85e+03\n",
      "==============================================================================\n",
      "\n",
      "Warnings:\n",
      "[1] Standard Errors assume that the covariance matrix of the errors is correctly specified.\n",
      "[2] The condition number is large, 7.85e+03. This might indicate that there are\n",
      "strong multicollinearity or other numerical problems.\n"
     ]
    }
   ],
   "source": [
    "# Setting up the regression variables for one with time trend\n",
    "dep_var = iintel[\"salary\"]\n",
    "\n",
    "years = iintel[\"gradyr\"].tolist()[:]\n",
    "time = []\n",
    "for y in years:\n",
    "    t = y - 2001\n",
    "    time.append(t)\n",
    "iintel[\"time\"] = time\n",
    "\n",
    "exp_vars = iintel[[\"time\", \"greqnt_conv\"]]\n",
    "exp_vars = sm.add_constant(exp_vars, prepend=False)\n",
    "\n",
    "# Running the regression after making the necessary changes\n",
    "m_q2_2 = sm.OLS(dep_var, exp_vars)\n",
    "result_q2_2 = m_q2_2.fit()\n",
    "print(result_q2_2.summary())"
   ]
  },
  {
   "cell_type": "code",
   "execution_count": 297,
   "metadata": {},
   "outputs": [
    {
     "name": "stdout",
     "output_type": "stream",
     "text": [
      "                            OLS Regression Results                            \n",
      "==============================================================================\n",
      "Dep. Variable:         salary_detrend   R-squared:                       0.000\n",
      "Model:                            OLS   Adj. R-squared:                 -0.001\n",
      "Method:                 Least Squares   F-statistic:                    0.3201\n",
      "Date:                Wed, 17 Oct 2018   Prob (F-statistic):              0.572\n",
      "Time:                        01:02:29   Log-Likelihood:                -7916.7\n",
      "No. Observations:                 770   AIC:                         1.584e+04\n",
      "Df Residuals:                     768   BIC:                         1.585e+04\n",
      "Df Model:                           1                                         \n",
      "Covariance Type:            nonrobust                                         \n",
      "===============================================================================\n",
      "                  coef    std err          t      P>|t|      [0.025      0.975]\n",
      "-------------------------------------------------------------------------------\n",
      "greqnt_conv   -69.1882    122.297     -0.566      0.572    -309.264     170.887\n",
      "const        7.229e+04   1.92e+04      3.775      0.000    3.47e+04     1.1e+05\n",
      "==============================================================================\n",
      "Omnibus:                        1.218   Durbin-Watson:                   1.968\n",
      "Prob(Omnibus):                  0.544   Jarque-Bera (JB):                1.074\n",
      "Skew:                           0.079   Prob(JB):                        0.585\n",
      "Kurtosis:                       3.092   Cond. No.                     1.18e+04\n",
      "==============================================================================\n",
      "\n",
      "Warnings:\n",
      "[1] Standard Errors assume that the covariance matrix of the errors is correctly specified.\n",
      "[2] The condition number is large, 1.18e+04. This might indicate that there are\n",
      "strong multicollinearity or other numerical problems.\n",
      "\n",
      "                            OLS Regression Results                            \n",
      "==============================================================================\n",
      "Dep. Variable:         salary_detrend   R-squared:                       0.002\n",
      "Model:                            OLS   Adj. R-squared:                 -0.002\n",
      "Method:                 Least Squares   F-statistic:                    0.4616\n",
      "Date:                Wed, 17 Oct 2018   Prob (F-statistic):              0.498\n",
      "Time:                        01:02:29   Log-Likelihood:                -2373.9\n",
      "No. Observations:                 230   AIC:                             4752.\n",
      "Df Residuals:                     228   BIC:                             4759.\n",
      "Df Model:                           1                                         \n",
      "Covariance Type:            nonrobust                                         \n",
      "===============================================================================\n",
      "                  coef    std err          t      P>|t|      [0.025      0.975]\n",
      "-------------------------------------------------------------------------------\n",
      "greqnt_conv   -63.7588     93.848     -0.679      0.498    -248.678     121.161\n",
      "const        7.118e+04   1.45e+04      4.894      0.000    4.25e+04    9.98e+04\n",
      "==============================================================================\n",
      "Omnibus:                        0.003   Durbin-Watson:                   2.194\n",
      "Prob(Omnibus):                  0.998   Jarque-Bera (JB):                0.066\n",
      "Skew:                           0.004   Prob(JB):                        0.968\n",
      "Kurtosis:                       2.918   Cond. No.                     4.63e+03\n",
      "==============================================================================\n",
      "\n",
      "Warnings:\n",
      "[1] Standard Errors assume that the covariance matrix of the errors is correctly specified.\n",
      "[2] The condition number is large, 4.63e+03. This might indicate that there are\n",
      "strong multicollinearity or other numerical problems.\n"
     ]
    }
   ],
   "source": [
    "## Splitting the dataset (pre-2011 vs. post-2011)\n",
    "## and running similar regressions\n",
    "\n",
    "## Where to split?\n",
    "for i, yr in enumerate(gradyr):\n",
    "    if yr == 2011.0:\n",
    "        split = i\n",
    "        break\n",
    "\n",
    "## Pre-2011\n",
    "dep_var = iintel[\"salary_detrend\"][0:split]\n",
    "exp_vars = iintel[\"greqnt_conv\"][0:split]\n",
    "exp_vars = sm.add_constant(exp_vars, prepend=False)\n",
    "\n",
    "m_q2_sp = sm.OLS(dep_var, exp_vars)\n",
    "result_q2_sp = m_q2_sp.fit()\n",
    "print(result_q2_sp.summary())\n",
    "\n",
    "## In-and-Post-2011\n",
    "dep_var = iintel[\"salary_detrend\"][split:]\n",
    "exp_vars = iintel[\"greqnt_conv\"][split:]\n",
    "exp_vars = sm.add_constant(exp_vars, prepend=False)\n",
    "\n",
    "m_q2_sp2 = sm.OLS(dep_var, exp_vars)\n",
    "result_q2_sp2 = m_q2_sp2.fit()\n",
    "print()\n",
    "print(result_q2_sp2.summary())"
   ]
  }
 ],
 "metadata": {
  "kernelspec": {
   "display_name": "Python 3",
   "language": "python",
   "name": "python3"
  },
  "language_info": {
   "codemirror_mode": {
    "name": "ipython",
    "version": 3
   },
   "file_extension": ".py",
   "mimetype": "text/x-python",
   "name": "python",
   "nbconvert_exporter": "python",
   "pygments_lexer": "ipython3",
   "version": "3.6.4"
  }
 },
 "nbformat": 4,
 "nbformat_minor": 1
}
