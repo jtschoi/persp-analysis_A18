{
 "cells": [
  {
   "cell_type": "markdown",
   "metadata": {},
   "source": [
    "### Finding the sum of even Fibonacci numbers\n",
    "\n",
    "#### Submitted by Junho Choi\n",
    "#### For Problem 2 of Assignment 6, MACS30000"
   ]
  },
  {
   "cell_type": "code",
   "execution_count": 19,
   "metadata": {},
   "outputs": [],
   "source": [
    "def sum_of_even_fibonacci(upper_limit):\n",
    "    '''\n",
    "    Function to find the sum of even Fibonacci numbers\n",
    "    given a certain upper limit.\n",
    "    \n",
    "    Input:\n",
    "    - upper_limit: (int) integer that is the upper limit for\n",
    "      findin the sum of even Fibonacci numbers.\n",
    "      \n",
    "    Returns:\n",
    "    - summation: (int) the sum of even Fibonacci numbers\n",
    "      under an upper limit.\n",
    "      \n",
    "    '''\n",
    "    \n",
    "    assertion_msg = \"Upper limit should be an integer\"\n",
    "    assert type(upper_limit) == int, assertion_msg\n",
    "    \n",
    "    prev_num, now_num = (1, 1)\n",
    "    \n",
    "    summation = 0\n",
    "    while now_num < upper_limit:\n",
    "        if now_num % 2 == 0:\n",
    "            summation += now_num\n",
    "        holder_now = now_num\n",
    "        now_num += prev_num\n",
    "        prev_num = holder_now\n",
    "        \n",
    "    return summation"
   ]
  },
  {
   "cell_type": "code",
   "execution_count": 20,
   "metadata": {},
   "outputs": [
    {
     "name": "stdout",
     "output_type": "stream",
     "text": [
      "4613732\n"
     ]
    }
   ],
   "source": [
    "print(sum_of_even_fibonacci(4000000))"
   ]
  }
 ],
 "metadata": {
  "kernelspec": {
   "display_name": "Python 3",
   "language": "python",
   "name": "python3"
  },
  "language_info": {
   "codemirror_mode": {
    "name": "ipython",
    "version": 3
   },
   "file_extension": ".py",
   "mimetype": "text/x-python",
   "name": "python",
   "nbconvert_exporter": "python",
   "pygments_lexer": "ipython3",
   "version": "3.6.4"
  }
 },
 "nbformat": 4,
 "nbformat_minor": 2
}
