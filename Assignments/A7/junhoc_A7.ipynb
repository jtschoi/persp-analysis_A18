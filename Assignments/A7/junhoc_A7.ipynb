{
 "cells": [
  {
   "cell_type": "markdown",
   "metadata": {},
   "source": [
    "### Problem 1\n",
    "\n",
    "#### Problem 1 of Chapter 7"
   ]
  },
  {
   "cell_type": "code",
   "execution_count": 1,
   "metadata": {},
   "outputs": [],
   "source": [
    "## small.py\n",
    "\n",
    "def smallest_factor(n):\n",
    "    \"\"\"\n",
    "        Return the smallest prime factor of \n",
    "        the positive integer n.\n",
    "    \"\"\"\n",
    "    if n == 1: return 1\n",
    "    for i in range(2, int(n ** 0.5)):\n",
    "        if n % i == 0: return i\n",
    "    return n"
   ]
  },
  {
   "cell_type": "code",
   "execution_count": 3,
   "metadata": {},
   "outputs": [],
   "source": [
    "## test_small.py\n",
    "\n",
    "## from small import smallest_factor\n",
    "\n",
    "def test_smallest_factor():\n",
    "    assert smallest_factor(25) == 5, \"Failed on squares of primes\""
   ]
  },
  {
   "cell_type": "markdown",
   "metadata": {},
   "source": [
    "#### Problem 2 of Chapter 7"
   ]
  },
  {
   "cell_type": "code",
   "execution_count": null,
   "metadata": {},
   "outputs": [],
   "source": [
    "## monlen.py\n",
    "\n",
    "def month_length(month, leap_year=False):\n",
    "    \"\"\"Return the number of days in the given month.\"\"\"\n",
    "    if month in {\"September\", \"April\", \"June\", \"November\"}:\n",
    "        return 30\n",
    "    elif month in {\"January\", \"March\", \"May\", \"July\",\n",
    "                   \"August\", \"October\", \"December\"}:\n",
    "        return 31\n",
    "    elif month == \"February\":\n",
    "        if not leap_year:\n",
    "            return 28\n",
    "        else:\n",
    "            return 29\n",
    "    else:\n",
    "        return None"
   ]
  },
  {
   "cell_type": "code",
   "execution_count": null,
   "metadata": {},
   "outputs": [],
   "source": [
    "## test_monlen.py\n",
    "\n",
    "## from monlen import month_length\n",
    "\n",
    "def test_month_length():\n",
    "    \n",
    "    month_day_dict = {\n",
    "        \"January\": 31,\n",
    "        \"February\": {\"leap\": 29, \"not_leap\": 28},\n",
    "        \"March\": 31,\n",
    "        \"April\": 30,\n",
    "        \"May\": 31,\n",
    "        \"June\": 30,\n",
    "        \"July\": 31,\n",
    "        \"August\": 31,\n",
    "        \"September\": 30,\n",
    "        \"October\": 31,\n",
    "        \"November\": 30,\n",
    "        \"December\": 31\n",
    "    }\n",
    "\n",
    "    error_msg_month = \"Month not matching day!\"\n",
    "    error_msg_february = \"Month not matching day, and \" + \\\n",
    "                         \"check leap year status!\"\n",
    "    error_msg_sthelse = \"If input is not the name of a \" + \\\n",
    "                        \"month, then should return None!\"\n",
    "\n",
    "    for key, value in month_day_dict.items():\n",
    "        if key == \"February\":\n",
    "            assert month_length(key, True) == \\\n",
    "                   month_day_dict[key][\"leap\"], error_msg_february\n",
    "            assert month_length(key, False) == \\\n",
    "                   month_day_dict[key][\"not_leap\"], error_msg_february\n",
    "        else:\n",
    "            assert month_length(key) == \\\n",
    "                   month_day_dict[key]\n",
    "    assert month_length(\"Something_Else\") == None, error_msg_sthelse"
   ]
  },
  {
   "cell_type": "markdown",
   "metadata": {},
   "source": [
    "#### Problem 3 of Chapter 7"
   ]
  },
  {
   "cell_type": "code",
   "execution_count": null,
   "metadata": {},
   "outputs": [],
   "source": [
    "## oper.py\n",
    "\n",
    "def operate(a, b, oper):\n",
    "    \"\"\"Apply an arithmetic operation to a and b.\"\"\"\n",
    "    if type(oper) is not str:\n",
    "        raise TypeError(\"oper must be a string\")\n",
    "    elif oper == '+':\n",
    "        return a + b\n",
    "    elif oper == '-':\n",
    "        return a - b\n",
    "    elif oper == '*':\n",
    "        return a * b\n",
    "    elif oper == '/':\n",
    "        if b == 0:\n",
    "            raise ZeroDivisionError(\"division by zero is \" + \\\n",
    "                                    \"undefined\")\n",
    "        return a / b\n",
    "    raise ValueError(\"oper must be one of '+', \" + \\\n",
    "                     \"'/', '-', or '*'\")"
   ]
  },
  {
   "cell_type": "code",
   "execution_count": null,
   "metadata": {},
   "outputs": [],
   "source": [
    "## test_oper.py\n",
    "\n",
    "## from oper import operate\n",
    "import pytest\n",
    "\n",
    "def test_operate():\n",
    "\n",
    "    ## Testing additions\n",
    "    assert operate(4, 2, '+') == 6, \"integer addition\"\n",
    "    assert operate(4, 0.25, '+') == 4.25, \"float addition\"\n",
    "\n",
    "    ## Testing subtractions\n",
    "    assert operate(4, 5, '-') == -1, \"integer subtraction\"\n",
    "    assert operate(4, 3.75, '-') == 0.25, \"float subtraction\"\n",
    "\n",
    "    ## Testing multiplications\n",
    "    assert operate(4, 5, '*') == 20, \"integer multiplication\"\n",
    "    assert operate(4, 0.1, '*') == 0.4, \"float multiplication\"\n",
    "\n",
    "    ## Testing divisions\n",
    "    assert operate(4, 2, \"/\") == 2, \"integer division\"\n",
    "    assert operate(0.06, 0.3, \"/\") == 0.2, \"float division\"\n",
    "\n",
    "    ## Testing exceptions\n",
    "    with pytest.raises(ZeroDivisionError) as excinfo0:\n",
    "        operate(4, 0, \"/\")\n",
    "    assert excinfo0.value.args[0] == \"division by zero is \" + \\\n",
    "                                     \"undefined\"\n",
    "\n",
    "    with pytest.raises(ValueError) as excinfo1:\n",
    "        operate(4, 0, \"string\")\n",
    "    assert excinfo1.value.args[0] == \"oper must be one of '+', \" + \\\n",
    "                                     \"'/', '-', or '*'\"\n",
    "    \n",
    "    with pytest.raises(TypeError) as excinfo2:\n",
    "        operate(4, 0, 1)\n",
    "    assert excinfo2.value.args[0] == \"oper must be a string\""
   ]
  }
 ],
 "metadata": {
  "kernelspec": {
   "display_name": "Python 3",
   "language": "python",
   "name": "python3"
  },
  "language_info": {
   "codemirror_mode": {
    "name": "ipython",
    "version": 3
   },
   "file_extension": ".py",
   "mimetype": "text/x-python",
   "name": "python",
   "nbconvert_exporter": "python",
   "pygments_lexer": "ipython3",
   "version": "3.6.4"
  }
 },
 "nbformat": 4,
 "nbformat_minor": 2
}
